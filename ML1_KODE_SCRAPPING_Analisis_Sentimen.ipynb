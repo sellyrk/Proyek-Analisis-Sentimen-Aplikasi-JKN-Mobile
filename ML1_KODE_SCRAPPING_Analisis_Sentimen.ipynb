{
  "cells": [
    {
      "cell_type": "markdown",
      "metadata": {
        "id": "SxaJz-LL-Uti"
      },
      "source": [
        "Menginstall library google-play-scraper"
      ]
    },
    {
      "cell_type": "code",
      "execution_count": null,
      "metadata": {
        "colab": {
          "base_uri": "https://localhost:8080/"
        },
        "id": "Q7wWdvNAmdmH",
        "outputId": "053cbb47-124a-48a4-fcd1-6ffa88ecc496"
      },
      "outputs": [
        {
          "output_type": "stream",
          "name": "stdout",
          "text": [
            "Requirement already satisfied: google-play-scraper in /usr/local/lib/python3.10/dist-packages (1.2.7)\n"
          ]
        }
      ],
      "source": [
        "!pip install google-play-scraper"
      ]
    },
    {
      "cell_type": "code",
      "execution_count": null,
      "metadata": {
        "id": "AEsXAMHepSfg"
      },
      "outputs": [],
      "source": [
        "from google_play_scraper import app, reviews, Sort, reviews_all"
      ]
    },
    {
      "cell_type": "markdown",
      "metadata": {
        "id": "hm3olzfK-f3R"
      },
      "source": [
        "Mengimport library dan modul yang dibutuhkan dalam proses scrapping"
      ]
    },
    {
      "cell_type": "code",
      "execution_count": null,
      "metadata": {
        "id": "7R1GsBh2qgI9"
      },
      "outputs": [],
      "source": [
        "import pandas as pd\n",
        "pd.options.mode.chained_assignment = None\n",
        "import numpy as np\n",
        "seed = 0\n",
        "np.random.seed(seed)\n",
        "import matplotlib.pyplot as plt\n",
        "import seaborn as sns\n",
        "import datetime as dt\n",
        "import re\n",
        "import string\n",
        "from nltk.tokenize import word_tokenize\n",
        "from nltk.corpus import stopwords"
      ]
    },
    {
      "cell_type": "code",
      "execution_count": null,
      "metadata": {
        "colab": {
          "base_uri": "https://localhost:8080/"
        },
        "id": "rRtcKlB9q4Pt",
        "outputId": "5606fa5b-6800-418b-b18b-e56884370758"
      },
      "outputs": [
        {
          "output_type": "stream",
          "name": "stdout",
          "text": [
            "Requirement already satisfied: sastrawi in /usr/local/lib/python3.10/dist-packages (1.0.1)\n"
          ]
        }
      ],
      "source": [
        "!pip install sastrawi\n",
        "from Sastrawi.Stemmer.StemmerFactory import StemmerFactory\n",
        "from Sastrawi.StopWordRemover.StopWordRemoverFactory import StopWordRemoverFactory\n",
        "\n",
        "from wordcloud import WordCloud"
      ]
    },
    {
      "cell_type": "code",
      "execution_count": null,
      "metadata": {
        "colab": {
          "base_uri": "https://localhost:8080/"
        },
        "id": "Pe5moT5Nq5N_",
        "outputId": "536eedcf-1408-497c-86eb-7bd441afc615"
      },
      "outputs": [
        {
          "output_type": "stream",
          "name": "stderr",
          "text": [
            "[nltk_data] Downloading package punkt to /root/nltk_data...\n",
            "[nltk_data]   Package punkt is already up-to-date!\n",
            "[nltk_data] Downloading package stopwords to /root/nltk_data...\n",
            "[nltk_data]   Package stopwords is already up-to-date!\n"
          ]
        },
        {
          "output_type": "execute_result",
          "data": {
            "text/plain": [
              "True"
            ]
          },
          "metadata": {},
          "execution_count": 5
        }
      ],
      "source": [
        "import nltk\n",
        "nltk.download('punkt')\n",
        "nltk.download('stopwords')"
      ]
    },
    {
      "cell_type": "markdown",
      "metadata": {
        "id": "YOStOXd2-mpF"
      },
      "source": [
        "Menscrapping review dari aplikasi jkn mobile di google play store, dan mengambilnya sebanyak 10.000 data"
      ]
    },
    {
      "cell_type": "code",
      "execution_count": null,
      "metadata": {
        "id": "IkIukjAyrGrJ"
      },
      "outputs": [],
      "source": [
        "from google_play_scraper import app, reviews_all, Sort\n",
        "\n",
        "scrapreview = reviews(\n",
        "    'app.bpjs.mobile',\n",
        "    lang='id',\n",
        "    country='id',\n",
        "    sort=Sort.MOST_RELEVANT,\n",
        "    count=10000)"
      ]
    },
    {
      "cell_type": "markdown",
      "metadata": {
        "id": "Y7zuOQOB_lcJ"
      },
      "source": [
        "Menyimpan hasil scrapping ke dalam bentuk csv"
      ]
    },
    {
      "cell_type": "code",
      "execution_count": null,
      "metadata": {
        "colab": {
          "base_uri": "https://localhost:8080/"
        },
        "id": "gnuwBVmhtiLj",
        "outputId": "5c7ba807-6572-4e8f-a51d-1cf1da8281e9"
      },
      "outputs": [
        {
          "output_type": "stream",
          "name": "stdout",
          "text": [
            "CSV file updated successfully!\n"
          ]
        }
      ],
      "source": [
        "import csv\n",
        "\n",
        "for review in scrapreview[0]:\n",
        "    if isinstance(review, dict):\n",
        "        content = review.get('content', '')\n",
        "        with open('review_jkn_mobile_app.csv', mode='a', newline='', encoding='utf-8') as file:\n",
        "            writer = csv.writer(file)\n",
        "            writer.writerow([content])\n",
        "    else:\n",
        "        print(f\"Invalid review format: {review}\")\n",
        "\n",
        "print(\"CSV file updated successfully!\")"
      ]
    },
    {
      "cell_type": "code",
      "execution_count": null,
      "metadata": {
        "id": "LThdnmQpu6Xv"
      },
      "outputs": [],
      "source": []
    }
  ],
  "metadata": {
    "colab": {
      "provenance": []
    },
    "kernelspec": {
      "display_name": "Python 3",
      "name": "python3"
    },
    "language_info": {
      "name": "python"
    }
  },
  "nbformat": 4,
  "nbformat_minor": 0
}